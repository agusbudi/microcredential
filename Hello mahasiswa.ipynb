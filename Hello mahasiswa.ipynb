{
 "cells": [
  {
   "cell_type": "markdown",
   "id": "8fbb7229",
   "metadata": {},
   "source": [
    "# Project Akhir"
   ]
  },
  {
   "cell_type": "code",
   "execution_count": 1,
   "id": "deb96bee",
   "metadata": {},
   "outputs": [
    {
     "name": "stdout",
     "output_type": "stream",
     "text": [
      "hello Indonesia\n"
     ]
    }
   ],
   "source": [
    "print(\"hello Indonesia\")"
   ]
  },
  {
   "cell_type": "code",
   "execution_count": null,
   "id": "b3768b9e",
   "metadata": {},
   "outputs": [],
   "source": []
  }
 ],
 "metadata": {
  "kernelspec": {
   "display_name": "Python 3",
   "language": "python",
   "name": "python3"
  },
  "language_info": {
   "codemirror_mode": {
    "name": "ipython",
    "version": 3
   },
   "file_extension": ".py",
   "mimetype": "text/x-python",
   "name": "python",
   "nbconvert_exporter": "python",
   "pygments_lexer": "ipython3",
   "version": "3.8.8"
  }
 },
 "nbformat": 4,
 "nbformat_minor": 5
}
