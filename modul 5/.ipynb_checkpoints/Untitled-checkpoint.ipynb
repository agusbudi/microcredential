{
 "cells": [
  {
   "cell_type": "markdown",
   "id": "929f4323",
   "metadata": {},
   "source": [
    "## CRAWL TWITTER"
   ]
  },
  {
   "cell_type": "code",
   "execution_count": null,
   "id": "3737e63c",
   "metadata": {},
   "outputs": [],
   "source": [
    "#pip install tweepy"
   ]
  },
  {
   "cell_type": "code",
   "execution_count": null,
   "id": "2602010f",
   "metadata": {},
   "outputs": [],
   "source": [
    "import tweepy\n",
    "import csvaccess_token=\"\"\n",
    "access_token_secret=\"\"\n",
    "consumer_key=\"\"\n",
    "consumer_key_secret=\"\"\n",
    "\n",
    "auth = tweepy.OAuthHandler(consumer_key,consumer_key_secret)\n",
    "api = tweepy.API(auth)\n",
    "\n",
    "# Open/create a file to append data to\n",
    "csvFile = open('nama-file.csv', 'w', encoding='utf-8')#Use csv writer\n",
    "csvWriter = csv.writer(csvFile)for tweet in tweepy.Cursor(api.search, q='#Python -filter:retweets', \n",
    "                                                          tweet_mode='extended',lang=\"id\", since='2021-01-01', \n",
    "                                                          until='2021-01-10').items(100):\n",
    "text = tweet.full_text\n",
    "user = tweet.user.name\n",
    "created = tweet.created_at\n",
    "csvWriter.writerow([created, text.encode('utf-8'), user])\n",
    "csvWriter = csv.writer(csvFile)\n",
    "csvFile.close()"
   ]
  },
  {
   "cell_type": "markdown",
   "id": "9eced84e",
   "metadata": {},
   "source": [
    "## CRAWL INSTAGRAM"
   ]
  },
  {
   "cell_type": "code",
   "execution_count": null,
   "id": "a1ed34a3",
   "metadata": {},
   "outputs": [],
   "source": [
    "pip install instaloader"
   ]
  },
  {
   "cell_type": "code",
   "execution_count": null,
   "id": "73990580",
   "metadata": {},
   "outputs": [],
   "source": [
    "instalooter --help"
   ]
  },
  {
   "cell_type": "code",
   "execution_count": null,
   "id": "b60c391a",
   "metadata": {},
   "outputs": [],
   "source": [
    "from instaLooter import Profilooter"
   ]
  },
  {
   "cell_type": "code",
   "execution_count": null,
   "id": "0620b69d",
   "metadata": {},
   "outputs": [],
   "source": [
    "\n",
    "\n",
    "insgtagram_user = \"maisie_williams\"\n",
    "looter = InstaLooter(profile=insgtagram_user)    \n",
    "post_list = []\n",
    "_baseurl = \"https://www.instagram.com/p\"\n",
    "\n",
    "for media in looter.medias(with_pbar=True):\n",
    "   post_dict = {}\n",
    "   post_info = looter.get_post_info(media['code'])\n",
    "   post_dict['photo_url'] = post_info['display_url']\n",
    "   comment_user = []\n",
    "   comment_text = []\n",
    "   for component in post_info['edge_media_to_comment']['edges']:\n",
    "       comment_user.append(component['node']['owner']['username'])\n",
    "       comment_text.append(component['node']['text'])\n",
    "   try:\n",
    "       caption = post_info['edge_media_to_caption']['edges'][0]['node']['text']\n",
    "   except :\n",
    "       caption = []\n",
    "       post_dict['caption'] = caption\n",
    "   if caption:\n",
    "       post_dict['hashtag'] = re.findall(r\"#(\\w+)\", caption)\n",
    "   else : \n",
    "       post_dict['hashtag'] = []\n",
    "       \n",
    "   post_dict['caption']=caption\n",
    "   post_dict['insta_url'] =os.path.join(_baseurl,post_info['shortcode'])\n",
    "   post_dict['instagram_id'] = post_info['owner']['username']\n",
    "   post_dict['instagram_alias'] = post_info['owner']['full_name']\n",
    "   post_list.append(post_dict)"
   ]
  },
  {
   "cell_type": "code",
   "execution_count": null,
   "id": "523541ee",
   "metadata": {},
   "outputs": [],
   "source": []
  }
 ],
 "metadata": {
  "kernelspec": {
   "display_name": "Python 3",
   "language": "python",
   "name": "python3"
  },
  "language_info": {
   "codemirror_mode": {
    "name": "ipython",
    "version": 3
   },
   "file_extension": ".py",
   "mimetype": "text/x-python",
   "name": "python",
   "nbconvert_exporter": "python",
   "pygments_lexer": "ipython3",
   "version": "3.8.8"
  }
 },
 "nbformat": 4,
 "nbformat_minor": 5
}
