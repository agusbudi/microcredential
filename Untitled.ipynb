{
 "cells": [
  {
   "cell_type": "markdown",
   "id": "929f4323",
   "metadata": {},
   "source": [
    "## CRAWL TWITTER"
   ]
  },
  {
   "cell_type": "code",
   "execution_count": null,
   "id": "3737e63c",
   "metadata": {},
   "outputs": [],
   "source": [
    "#pip install tweepy"
   ]
  },
  {
   "cell_type": "code",
   "execution_count": null,
   "id": "2602010f",
   "metadata": {},
   "outputs": [],
   "source": [
    "import tweepy\n",
    "import csvaccess_token=\"\"\n",
    "access_token_secret=\"\"\n",
    "consumer_key=\"\"\n",
    "consumer_key_secret=\"\"\n",
    "\n",
    "auth = tweepy.OAuthHandler(consumer_key,consumer_key_secret)\n",
    "api = tweepy.API(auth)\n",
    "\n",
    "# Open/create a file to append data to\n",
    "csvFile = open('nama-file.csv', 'w', encoding='utf-8')#Use csv writer\n",
    "csvWriter = csv.writer(csvFile)for tweet in tweepy.Cursor(api.search, q='#Python -filter:retweets', \n",
    "                                                          tweet_mode='extended',lang=\"id\", since='2021-01-01', \n",
    "                                                          until='2021-01-10').items(100):\n",
    "text = tweet.full_text\n",
    "user = tweet.user.name\n",
    "created = tweet.created_at\n",
    "csvWriter.writerow([created, text.encode('utf-8'), user])\n",
    "csvWriter = csv.writer(csvFile)\n",
    "csvFile.close()"
   ]
  },
  {
   "cell_type": "markdown",
   "id": "9eced84e",
   "metadata": {},
   "source": [
    "## CRAWL INSTAGRAM"
   ]
  },
  {
   "cell_type": "code",
   "execution_count": null,
   "id": "a1ed34a3",
   "metadata": {},
   "outputs": [],
   "source": [
    "#pip install instaloader"
   ]
  },
  {
   "cell_type": "code",
   "execution_count": 4,
   "id": "73990580",
   "metadata": {},
   "outputs": [
    {
     "name": "stdout",
     "output_type": "stream",
     "text": [
      "\n",
      "HTTP redirect from https://www.instagram.com/explore/tags/streetart/ to https://www.instagram.com/accounts/login/?next=/explore/tags/streetart/%3F__a%3D1\n"
     ]
    },
    {
     "name": "stderr",
     "output_type": "stream",
     "text": [
      "Get hashtag #streetart: Redirected to login page. Use --login.\n"
     ]
    }
   ],
   "source": [
    "import instaloader\n",
    "\n",
    "loader = instaloader.Instaloader(download_videos=False, save_metadata=False, post_metadata_txt_pattern='')\n",
    "loader.download_hashtag('streetart', max_count=20)"
   ]
  },
  {
   "cell_type": "code",
   "execution_count": 8,
   "id": "b60c391a",
   "metadata": {},
   "outputs": [
    {
     "ename": "SyntaxError",
     "evalue": "invalid syntax (<ipython-input-8-43a65b5bd076>, line 1)",
     "output_type": "error",
     "traceback": [
      "\u001b[0;36m  File \u001b[0;32m\"<ipython-input-8-43a65b5bd076>\"\u001b[0;36m, line \u001b[0;32m1\u001b[0m\n\u001b[0;31m    instaloader --comments \"agus.budi.r\"\u001b[0m\n\u001b[0m                           ^\u001b[0m\n\u001b[0;31mSyntaxError\u001b[0m\u001b[0;31m:\u001b[0m invalid syntax\n"
     ]
    }
   ],
   "source": [
    "instaloader --comments \"agus.budi.r\""
   ]
  },
  {
   "cell_type": "code",
   "execution_count": null,
   "id": "0620b69d",
   "metadata": {},
   "outputs": [],
   "source": []
  },
  {
   "cell_type": "code",
   "execution_count": null,
   "id": "523541ee",
   "metadata": {},
   "outputs": [],
   "source": []
  }
 ],
 "metadata": {
  "kernelspec": {
   "display_name": "Python 3",
   "language": "python",
   "name": "python3"
  },
  "language_info": {
   "codemirror_mode": {
    "name": "ipython",
    "version": 3
   },
   "file_extension": ".py",
   "mimetype": "text/x-python",
   "name": "python",
   "nbconvert_exporter": "python",
   "pygments_lexer": "ipython3",
   "version": "3.8.8"
  }
 },
 "nbformat": 4,
 "nbformat_minor": 5
}
